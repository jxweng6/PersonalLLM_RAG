{
 "cells": [
  {
   "cell_type": "code",
   "execution_count": null,
   "id": "cdf44280",
   "metadata": {
    "ExecuteTime": {
     "end_time": "2023-06-01T14:14:31.494993Z",
     "start_time": "2023-06-01T14:14:00.792633Z"
    }
   },
   "outputs": [],
   "source": [
    "# https 协议\n",
    "!pip install -q git+https://github.com/huggingface/transformers.git\n",
    "# ssh 协议\n",
    "!pip install -q git+ssh://git@github.com/huggingface/transformers.git"
   ]
  },
  {
   "cell_type": "code",
   "execution_count": 1,
   "id": "ab68d5c2",
   "metadata": {
    "ExecuteTime": {
     "end_time": "2023-06-09T15:06:43.705541Z",
     "start_time": "2023-06-09T15:06:43.374754Z"
    }
   },
   "outputs": [],
   "source": [
    "import transformers"
   ]
  },
  {
   "cell_type": "code",
   "execution_count": 2,
   "id": "184b1ae4",
   "metadata": {
    "ExecuteTime": {
     "end_time": "2023-06-09T15:06:46.829655Z",
     "start_time": "2023-06-09T15:06:46.819209Z"
    }
   },
   "outputs": [
    {
     "data": {
      "text/plain": [
       "'4.30.0.dev0'"
      ]
     },
     "execution_count": 2,
     "metadata": {},
     "output_type": "execute_result"
    }
   ],
   "source": [
    "transformers.__version__ "
   ]
  },
  {
   "cell_type": "markdown",
   "id": "eea7c0c7",
   "metadata": {},
   "source": [
    "## basics"
   ]
  },
  {
   "cell_type": "markdown",
   "id": "42597993",
   "metadata": {},
   "source": [
    "- hf（huggingface）中使用 llama\n",
    "- llama => alpaca\n",
    "- lora on alpaca\n",
    "- inference：推理\n",
    "    - alpaca 标准 prompt 格式"
   ]
  },
  {
   "cell_type": "markdown",
   "id": "c53a016b",
   "metadata": {},
   "source": [
    "## load model/tokenizer"
   ]
  },
  {
   "cell_type": "markdown",
   "id": "1e387249",
   "metadata": {},
   "source": [
    "- https://github.com/tloen/alpaca-lora/blob/main/generate.py"
   ]
  },
  {
   "cell_type": "code",
   "execution_count": 3,
   "id": "e8b17cf8",
   "metadata": {
    "ExecuteTime": {
     "end_time": "2023-06-09T15:07:27.344536Z",
     "start_time": "2023-06-09T15:07:25.495233Z"
    }
   },
   "outputs": [],
   "source": [
    "from transformers import LlamaTokenizer, LlamaForCausalLM, GenerationConfig"
   ]
  },
  {
   "cell_type": "code",
   "execution_count": null,
   "id": "ad1b2166",
   "metadata": {
    "ExecuteTime": {
     "end_time": "2023-06-01T14:18:57.287680Z",
     "start_time": "2023-06-01T14:18:57.282774Z"
    }
   },
   "outputs": [],
   "source": [
    "# import os\n",
    "# os.environ['HTTP_PROXY'] = 'http://127.0.0.1:7890'\n",
    "# os.environ['HTTPS_PROXY'] = 'http://127.0.0.1:7890'"
   ]
  },
  {
   "cell_type": "markdown",
   "id": "83bc02ea",
   "metadata": {},
   "source": [
    "### load model"
   ]
  },
  {
   "cell_type": "code",
   "execution_count": 4,
   "id": "123ea7f4",
   "metadata": {
    "ExecuteTime": {
     "end_time": "2023-06-09T15:08:45.956768Z",
     "start_time": "2023-06-09T15:08:33.034604Z"
    }
   },
   "outputs": [
    {
     "name": "stdout",
     "output_type": "stream",
     "text": [
      "\n",
      "===================================BUG REPORT===================================\n",
      "Welcome to bitsandbytes. For bug reports, please run\n",
      "\n",
      "python -m bitsandbytes\n",
      "\n",
      " and submit this information together with your error trace to: https://github.com/TimDettmers/bitsandbytes/issues\n",
      "================================================================================\n",
      "bin /home/whaow/anaconda3/lib/python3.10/site-packages/bitsandbytes/libbitsandbytes_cuda117.so\n",
      "CUDA SETUP: CUDA runtime path found: /home/whaow/anaconda3/lib/libcudart.so.11.0\n",
      "CUDA SETUP: Highest compute capability among GPUs detected: 8.9\n",
      "CUDA SETUP: Detected CUDA version 117\n",
      "CUDA SETUP: Loading binary /home/whaow/anaconda3/lib/python3.10/site-packages/bitsandbytes/libbitsandbytes_cuda117.so...\n"
     ]
    },
    {
     "data": {
      "application/vnd.jupyter.widget-view+json": {
       "model_id": "9267d32fa896480fb5b3c6f983fe991b",
       "version_major": 2,
       "version_minor": 0
      },
      "text/plain": [
       "Loading checkpoint shards:   0%|          | 0/33 [00:00<?, ?it/s]"
      ]
     },
     "metadata": {},
     "output_type": "display_data"
    }
   ],
   "source": [
    "model = LlamaForCausalLM.from_pretrained(\"decapoda-research/llama-7b-hf\",\n",
    "    load_in_8bit=True,\n",
    "    device_map=\"auto\",\n",
    ")"
   ]
  },
  {
   "cell_type": "code",
   "execution_count": 5,
   "id": "17d77948",
   "metadata": {
    "ExecuteTime": {
     "end_time": "2023-06-09T15:08:58.988075Z",
     "start_time": "2023-06-09T15:08:58.978500Z"
    }
   },
   "outputs": [
    {
     "data": {
      "text/plain": [
       "LlamaForCausalLM(\n",
       "  (model): LlamaModel(\n",
       "    (embed_tokens): Embedding(32000, 4096, padding_idx=31999)\n",
       "    (layers): ModuleList(\n",
       "      (0-31): 32 x LlamaDecoderLayer(\n",
       "        (self_attn): LlamaAttention(\n",
       "          (q_proj): Linear8bitLt(in_features=4096, out_features=4096, bias=False)\n",
       "          (k_proj): Linear8bitLt(in_features=4096, out_features=4096, bias=False)\n",
       "          (v_proj): Linear8bitLt(in_features=4096, out_features=4096, bias=False)\n",
       "          (o_proj): Linear8bitLt(in_features=4096, out_features=4096, bias=False)\n",
       "          (rotary_emb): LlamaRotaryEmbedding()\n",
       "        )\n",
       "        (mlp): LlamaMLP(\n",
       "          (gate_proj): Linear8bitLt(in_features=4096, out_features=11008, bias=False)\n",
       "          (down_proj): Linear8bitLt(in_features=11008, out_features=4096, bias=False)\n",
       "          (up_proj): Linear8bitLt(in_features=4096, out_features=11008, bias=False)\n",
       "          (act_fn): SiLUActivation()\n",
       "        )\n",
       "        (input_layernorm): LlamaRMSNorm()\n",
       "        (post_attention_layernorm): LlamaRMSNorm()\n",
       "      )\n",
       "    )\n",
       "    (norm): LlamaRMSNorm()\n",
       "  )\n",
       "  (lm_head): Linear(in_features=4096, out_features=32000, bias=False)\n",
       ")"
      ]
     },
     "execution_count": 5,
     "metadata": {},
     "output_type": "execute_result"
    }
   ],
   "source": [
    "model"
   ]
  },
  {
   "cell_type": "code",
   "execution_count": 7,
   "id": "34d4fd5d",
   "metadata": {
    "ExecuteTime": {
     "end_time": "2023-06-09T15:10:13.236567Z",
     "start_time": "2023-06-09T15:10:13.219727Z"
    },
    "scrolled": true
   },
   "outputs": [
    {
     "name": "stdout",
     "output_type": "stream",
     "text": [
      "0, \t cuda:0 \ttorch.float16\n",
      "1, \t cuda:0 \ttorch.int8\n",
      "2, \t cuda:0 \ttorch.int8\n",
      "3, \t cuda:0 \ttorch.int8\n",
      "4, \t cuda:0 \ttorch.int8\n",
      "5, \t cuda:0 \ttorch.int8\n",
      "6, \t cuda:0 \ttorch.int8\n",
      "7, \t cuda:0 \ttorch.int8\n",
      "8, \t cuda:0 \ttorch.float16\n",
      "9, \t cuda:0 \ttorch.float16\n",
      "10, \t cuda:0 \ttorch.int8\n",
      "11, \t cuda:0 \ttorch.int8\n",
      "12, \t cuda:0 \ttorch.int8\n",
      "13, \t cuda:0 \ttorch.int8\n",
      "14, \t cuda:0 \ttorch.int8\n",
      "15, \t cuda:0 \ttorch.int8\n",
      "16, \t cuda:0 \ttorch.int8\n",
      "17, \t cuda:0 \ttorch.float16\n",
      "18, \t cuda:0 \ttorch.float16\n",
      "19, \t cuda:0 \ttorch.int8\n",
      "20, \t cuda:0 \ttorch.int8\n",
      "21, \t cuda:0 \ttorch.int8\n",
      "22, \t cuda:0 \ttorch.int8\n",
      "23, \t cuda:0 \ttorch.int8\n",
      "24, \t cuda:0 \ttorch.int8\n",
      "25, \t cuda:0 \ttorch.int8\n",
      "26, \t cuda:0 \ttorch.float16\n",
      "27, \t cuda:0 \ttorch.float16\n",
      "28, \t cuda:0 \ttorch.int8\n",
      "29, \t cuda:0 \ttorch.int8\n",
      "30, \t cuda:0 \ttorch.int8\n",
      "31, \t cuda:0 \ttorch.int8\n",
      "32, \t cuda:0 \ttorch.int8\n",
      "33, \t cuda:0 \ttorch.int8\n",
      "34, \t cuda:0 \ttorch.int8\n",
      "35, \t cuda:0 \ttorch.float16\n",
      "36, \t cuda:0 \ttorch.float16\n",
      "37, \t cuda:0 \ttorch.int8\n",
      "38, \t cuda:0 \ttorch.int8\n",
      "39, \t cuda:0 \ttorch.int8\n",
      "40, \t cuda:0 \ttorch.int8\n",
      "41, \t cuda:0 \ttorch.int8\n",
      "42, \t cuda:0 \ttorch.int8\n",
      "43, \t cuda:0 \ttorch.int8\n",
      "44, \t cuda:0 \ttorch.float16\n",
      "45, \t cuda:0 \ttorch.float16\n",
      "46, \t cuda:0 \ttorch.int8\n",
      "47, \t cuda:0 \ttorch.int8\n",
      "48, \t cuda:0 \ttorch.int8\n",
      "49, \t cuda:0 \ttorch.int8\n",
      "50, \t cuda:0 \ttorch.int8\n",
      "51, \t cuda:0 \ttorch.int8\n",
      "52, \t cuda:0 \ttorch.int8\n",
      "53, \t cuda:0 \ttorch.float16\n",
      "54, \t cuda:0 \ttorch.float16\n",
      "55, \t cuda:0 \ttorch.int8\n",
      "56, \t cuda:0 \ttorch.int8\n",
      "57, \t cuda:0 \ttorch.int8\n",
      "58, \t cuda:0 \ttorch.int8\n",
      "59, \t cuda:0 \ttorch.int8\n",
      "60, \t cuda:0 \ttorch.int8\n",
      "61, \t cuda:0 \ttorch.int8\n",
      "62, \t cuda:0 \ttorch.float16\n",
      "63, \t cuda:0 \ttorch.float16\n",
      "64, \t cuda:0 \ttorch.int8\n",
      "65, \t cuda:0 \ttorch.int8\n",
      "66, \t cuda:0 \ttorch.int8\n",
      "67, \t cuda:0 \ttorch.int8\n",
      "68, \t cuda:0 \ttorch.int8\n",
      "69, \t cuda:0 \ttorch.int8\n",
      "70, \t cuda:0 \ttorch.int8\n",
      "71, \t cuda:0 \ttorch.float16\n",
      "72, \t cuda:0 \ttorch.float16\n",
      "73, \t cuda:0 \ttorch.int8\n",
      "74, \t cuda:0 \ttorch.int8\n",
      "75, \t cuda:0 \ttorch.int8\n",
      "76, \t cuda:0 \ttorch.int8\n",
      "77, \t cuda:0 \ttorch.int8\n",
      "78, \t cuda:0 \ttorch.int8\n",
      "79, \t cuda:0 \ttorch.int8\n",
      "80, \t cuda:0 \ttorch.float16\n",
      "81, \t cuda:0 \ttorch.float16\n",
      "82, \t cuda:0 \ttorch.int8\n",
      "83, \t cuda:0 \ttorch.int8\n",
      "84, \t cuda:0 \ttorch.int8\n",
      "85, \t cuda:0 \ttorch.int8\n",
      "86, \t cuda:0 \ttorch.int8\n",
      "87, \t cuda:0 \ttorch.int8\n",
      "88, \t cuda:0 \ttorch.int8\n",
      "89, \t cuda:0 \ttorch.float16\n",
      "90, \t cuda:0 \ttorch.float16\n",
      "91, \t cuda:0 \ttorch.int8\n",
      "92, \t cuda:0 \ttorch.int8\n",
      "93, \t cuda:0 \ttorch.int8\n",
      "94, \t cuda:0 \ttorch.int8\n",
      "95, \t cuda:0 \ttorch.int8\n",
      "96, \t cuda:0 \ttorch.int8\n",
      "97, \t cuda:0 \ttorch.int8\n",
      "98, \t cuda:0 \ttorch.float16\n",
      "99, \t cuda:0 \ttorch.float16\n",
      "100, \t cuda:0 \ttorch.int8\n",
      "101, \t cuda:0 \ttorch.int8\n",
      "102, \t cuda:0 \ttorch.int8\n",
      "103, \t cuda:0 \ttorch.int8\n",
      "104, \t cuda:0 \ttorch.int8\n",
      "105, \t cuda:0 \ttorch.int8\n",
      "106, \t cuda:0 \ttorch.int8\n",
      "107, \t cuda:0 \ttorch.float16\n",
      "108, \t cuda:0 \ttorch.float16\n",
      "109, \t cuda:0 \ttorch.int8\n",
      "110, \t cuda:0 \ttorch.int8\n",
      "111, \t cuda:0 \ttorch.int8\n",
      "112, \t cuda:0 \ttorch.int8\n",
      "113, \t cuda:0 \ttorch.int8\n",
      "114, \t cuda:0 \ttorch.int8\n",
      "115, \t cuda:0 \ttorch.int8\n",
      "116, \t cuda:0 \ttorch.float16\n",
      "117, \t cuda:0 \ttorch.float16\n",
      "118, \t cuda:0 \ttorch.int8\n",
      "119, \t cuda:0 \ttorch.int8\n",
      "120, \t cuda:0 \ttorch.int8\n",
      "121, \t cuda:0 \ttorch.int8\n",
      "122, \t cuda:0 \ttorch.int8\n",
      "123, \t cuda:0 \ttorch.int8\n",
      "124, \t cuda:0 \ttorch.int8\n",
      "125, \t cuda:0 \ttorch.float16\n",
      "126, \t cuda:0 \ttorch.float16\n",
      "127, \t cuda:0 \ttorch.int8\n",
      "128, \t cuda:0 \ttorch.int8\n",
      "129, \t cuda:0 \ttorch.int8\n",
      "130, \t cuda:0 \ttorch.int8\n",
      "131, \t cuda:0 \ttorch.int8\n",
      "132, \t cuda:0 \ttorch.int8\n",
      "133, \t cuda:0 \ttorch.int8\n",
      "134, \t cuda:0 \ttorch.float16\n",
      "135, \t cuda:0 \ttorch.float16\n",
      "136, \t cuda:0 \ttorch.int8\n",
      "137, \t cuda:0 \ttorch.int8\n",
      "138, \t cuda:0 \ttorch.int8\n",
      "139, \t cuda:0 \ttorch.int8\n",
      "140, \t cuda:0 \ttorch.int8\n",
      "141, \t cuda:0 \ttorch.int8\n",
      "142, \t cuda:0 \ttorch.int8\n",
      "143, \t cuda:0 \ttorch.float16\n",
      "144, \t cuda:0 \ttorch.float16\n",
      "145, \t cuda:1 \ttorch.int8\n",
      "146, \t cuda:1 \ttorch.int8\n",
      "147, \t cuda:1 \ttorch.int8\n",
      "148, \t cuda:1 \ttorch.int8\n",
      "149, \t cuda:1 \ttorch.int8\n",
      "150, \t cuda:1 \ttorch.int8\n",
      "151, \t cuda:1 \ttorch.int8\n",
      "152, \t cuda:1 \ttorch.float16\n",
      "153, \t cuda:1 \ttorch.float16\n",
      "154, \t cuda:1 \ttorch.int8\n",
      "155, \t cuda:1 \ttorch.int8\n",
      "156, \t cuda:1 \ttorch.int8\n",
      "157, \t cuda:1 \ttorch.int8\n",
      "158, \t cuda:1 \ttorch.int8\n",
      "159, \t cuda:1 \ttorch.int8\n",
      "160, \t cuda:1 \ttorch.int8\n",
      "161, \t cuda:1 \ttorch.float16\n",
      "162, \t cuda:1 \ttorch.float16\n",
      "163, \t cuda:1 \ttorch.int8\n",
      "164, \t cuda:1 \ttorch.int8\n",
      "165, \t cuda:1 \ttorch.int8\n",
      "166, \t cuda:1 \ttorch.int8\n",
      "167, \t cuda:1 \ttorch.int8\n",
      "168, \t cuda:1 \ttorch.int8\n",
      "169, \t cuda:1 \ttorch.int8\n",
      "170, \t cuda:1 \ttorch.float16\n",
      "171, \t cuda:1 \ttorch.float16\n",
      "172, \t cuda:1 \ttorch.int8\n",
      "173, \t cuda:1 \ttorch.int8\n",
      "174, \t cuda:1 \ttorch.int8\n",
      "175, \t cuda:1 \ttorch.int8\n",
      "176, \t cuda:1 \ttorch.int8\n",
      "177, \t cuda:1 \ttorch.int8\n",
      "178, \t cuda:1 \ttorch.int8\n",
      "179, \t cuda:1 \ttorch.float16\n",
      "180, \t cuda:1 \ttorch.float16\n",
      "181, \t cuda:1 \ttorch.int8\n",
      "182, \t cuda:1 \ttorch.int8\n",
      "183, \t cuda:1 \ttorch.int8\n",
      "184, \t cuda:1 \ttorch.int8\n",
      "185, \t cuda:1 \ttorch.int8\n",
      "186, \t cuda:1 \ttorch.int8\n",
      "187, \t cuda:1 \ttorch.int8\n",
      "188, \t cuda:1 \ttorch.float16\n",
      "189, \t cuda:1 \ttorch.float16\n",
      "190, \t cuda:1 \ttorch.int8\n",
      "191, \t cuda:1 \ttorch.int8\n",
      "192, \t cuda:1 \ttorch.int8\n",
      "193, \t cuda:1 \ttorch.int8\n",
      "194, \t cuda:1 \ttorch.int8\n",
      "195, \t cuda:1 \ttorch.int8\n",
      "196, \t cuda:1 \ttorch.int8\n",
      "197, \t cuda:1 \ttorch.float16\n",
      "198, \t cuda:1 \ttorch.float16\n",
      "199, \t cuda:1 \ttorch.int8\n",
      "200, \t cuda:1 \ttorch.int8\n",
      "201, \t cuda:1 \ttorch.int8\n",
      "202, \t cuda:1 \ttorch.int8\n",
      "203, \t cuda:1 \ttorch.int8\n",
      "204, \t cuda:1 \ttorch.int8\n",
      "205, \t cuda:1 \ttorch.int8\n",
      "206, \t cuda:1 \ttorch.float16\n",
      "207, \t cuda:1 \ttorch.float16\n",
      "208, \t cuda:1 \ttorch.int8\n",
      "209, \t cuda:1 \ttorch.int8\n",
      "210, \t cuda:1 \ttorch.int8\n",
      "211, \t cuda:1 \ttorch.int8\n",
      "212, \t cuda:1 \ttorch.int8\n",
      "213, \t cuda:1 \ttorch.int8\n",
      "214, \t cuda:1 \ttorch.int8\n",
      "215, \t cuda:1 \ttorch.float16\n",
      "216, \t cuda:1 \ttorch.float16\n",
      "217, \t cuda:1 \ttorch.int8\n",
      "218, \t cuda:1 \ttorch.int8\n",
      "219, \t cuda:1 \ttorch.int8\n",
      "220, \t cuda:1 \ttorch.int8\n",
      "221, \t cuda:1 \ttorch.int8\n",
      "222, \t cuda:1 \ttorch.int8\n",
      "223, \t cuda:1 \ttorch.int8\n",
      "224, \t cuda:1 \ttorch.float16\n",
      "225, \t cuda:1 \ttorch.float16\n",
      "226, \t cuda:1 \ttorch.int8\n",
      "227, \t cuda:1 \ttorch.int8\n",
      "228, \t cuda:1 \ttorch.int8\n",
      "229, \t cuda:1 \ttorch.int8\n",
      "230, \t cuda:1 \ttorch.int8\n",
      "231, \t cuda:1 \ttorch.int8\n",
      "232, \t cuda:1 \ttorch.int8\n",
      "233, \t cuda:1 \ttorch.float16\n",
      "234, \t cuda:1 \ttorch.float16\n",
      "235, \t cuda:1 \ttorch.int8\n",
      "236, \t cuda:1 \ttorch.int8\n",
      "237, \t cuda:1 \ttorch.int8\n",
      "238, \t cuda:1 \ttorch.int8\n",
      "239, \t cuda:1 \ttorch.int8\n",
      "240, \t cuda:1 \ttorch.int8\n",
      "241, \t cuda:1 \ttorch.int8\n",
      "242, \t cuda:1 \ttorch.float16\n",
      "243, \t cuda:1 \ttorch.float16\n",
      "244, \t cuda:1 \ttorch.int8\n",
      "245, \t cuda:1 \ttorch.int8\n",
      "246, \t cuda:1 \ttorch.int8\n",
      "247, \t cuda:1 \ttorch.int8\n",
      "248, \t cuda:1 \ttorch.int8\n",
      "249, \t cuda:1 \ttorch.int8\n",
      "250, \t cuda:1 \ttorch.int8\n",
      "251, \t cuda:1 \ttorch.float16\n",
      "252, \t cuda:1 \ttorch.float16\n",
      "253, \t cuda:1 \ttorch.int8\n",
      "254, \t cuda:1 \ttorch.int8\n",
      "255, \t cuda:1 \ttorch.int8\n",
      "256, \t cuda:1 \ttorch.int8\n",
      "257, \t cuda:1 \ttorch.int8\n",
      "258, \t cuda:1 \ttorch.int8\n",
      "259, \t cuda:1 \ttorch.int8\n",
      "260, \t cuda:1 \ttorch.float16\n",
      "261, \t cuda:1 \ttorch.float16\n",
      "262, \t cuda:1 \ttorch.int8\n",
      "263, \t cuda:1 \ttorch.int8\n",
      "264, \t cuda:1 \ttorch.int8\n",
      "265, \t cuda:1 \ttorch.int8\n",
      "266, \t cuda:1 \ttorch.int8\n",
      "267, \t cuda:1 \ttorch.int8\n",
      "268, \t cuda:1 \ttorch.int8\n",
      "269, \t cuda:1 \ttorch.float16\n",
      "270, \t cuda:1 \ttorch.float16\n",
      "271, \t cuda:1 \ttorch.int8\n",
      "272, \t cuda:1 \ttorch.int8\n",
      "273, \t cuda:1 \ttorch.int8\n",
      "274, \t cuda:1 \ttorch.int8\n",
      "275, \t cuda:1 \ttorch.int8\n",
      "276, \t cuda:1 \ttorch.int8\n",
      "277, \t cuda:1 \ttorch.int8\n",
      "278, \t cuda:1 \ttorch.float16\n",
      "279, \t cuda:1 \ttorch.float16\n",
      "280, \t cuda:1 \ttorch.int8\n",
      "281, \t cuda:1 \ttorch.int8\n",
      "282, \t cuda:1 \ttorch.int8\n",
      "283, \t cuda:1 \ttorch.int8\n",
      "284, \t cuda:1 \ttorch.int8\n",
      "285, \t cuda:1 \ttorch.int8\n",
      "286, \t cuda:1 \ttorch.int8\n",
      "287, \t cuda:1 \ttorch.float16\n",
      "288, \t cuda:1 \ttorch.float16\n",
      "289, \t cuda:1 \ttorch.float16\n",
      "290, \t cuda:1 \ttorch.float16\n"
     ]
    }
   ],
   "source": [
    "for i, para in enumerate(model.named_parameters()):\n",
    "#     print(f'{i}, {para[0]}\\t {para[1].device} \\t{para[1].dtype}')\n",
    "    print(f'{i}, \\t {para[1].device} \\t{para[1].dtype}')"
   ]
  },
  {
   "cell_type": "markdown",
   "id": "bea34330",
   "metadata": {},
   "source": [
    "### load tokenizer"
   ]
  },
  {
   "cell_type": "code",
   "execution_count": 8,
   "id": "bea48ff4",
   "metadata": {
    "ExecuteTime": {
     "end_time": "2023-06-09T15:11:12.408226Z",
     "start_time": "2023-06-09T15:11:12.151520Z"
    },
    "scrolled": true
   },
   "outputs": [
    {
     "name": "stderr",
     "output_type": "stream",
     "text": [
      "The tokenizer class you load from this checkpoint is not the same type as the class this function is called from. It may result in unexpected tokenization. \n",
      "The tokenizer class you load from this checkpoint is 'LLaMATokenizer'. \n",
      "The class this function is called from is 'LlamaTokenizer'.\n"
     ]
    }
   ],
   "source": [
    "tokenizer = LlamaTokenizer.from_pretrained(\"decapoda-research/llama-7b-hf\")"
   ]
  },
  {
   "cell_type": "code",
   "execution_count": 9,
   "id": "9d1ebd6a",
   "metadata": {
    "ExecuteTime": {
     "end_time": "2023-06-09T15:11:20.203567Z",
     "start_time": "2023-06-09T15:11:20.193320Z"
    }
   },
   "outputs": [
    {
     "data": {
      "text/plain": [
       "LlamaTokenizer(name_or_path='decapoda-research/llama-7b-hf', vocab_size=32000, model_max_length=1000000000000000019884624838656, is_fast=False, padding_side='right', truncation_side='right', special_tokens={'bos_token': AddedToken(\"\", rstrip=False, lstrip=False, single_word=False, normalized=True), 'eos_token': AddedToken(\"\", rstrip=False, lstrip=False, single_word=False, normalized=True), 'unk_token': AddedToken(\"\", rstrip=False, lstrip=False, single_word=False, normalized=True)}, clean_up_tokenization_spaces=False)"
      ]
     },
     "execution_count": 9,
     "metadata": {},
     "output_type": "execute_result"
    }
   ],
   "source": [
    "tokenizer"
   ]
  },
  {
   "cell_type": "markdown",
   "id": "36c2ebe5",
   "metadata": {},
   "source": [
    "## with lora"
   ]
  },
  {
   "cell_type": "markdown",
   "id": "de1cc604",
   "metadata": {},
   "source": [
    "- https://github.com/tloen/alpaca-lora"
   ]
  },
  {
   "cell_type": "code",
   "execution_count": 10,
   "id": "cb0dc85d",
   "metadata": {
    "ExecuteTime": {
     "end_time": "2023-06-09T15:11:55.054789Z",
     "start_time": "2023-06-09T15:11:55.015703Z"
    }
   },
   "outputs": [],
   "source": [
    "from peft import PeftModel"
   ]
  },
  {
   "cell_type": "code",
   "execution_count": 11,
   "id": "0c26cfe3",
   "metadata": {
    "ExecuteTime": {
     "end_time": "2023-06-09T15:13:10.960592Z",
     "start_time": "2023-06-09T15:12:54.992207Z"
    }
   },
   "outputs": [],
   "source": [
    "model = PeftModel.from_pretrained(model, \"tloen/alpaca-lora-7b\")"
   ]
  },
  {
   "cell_type": "code",
   "execution_count": 12,
   "id": "1e40af9a",
   "metadata": {
    "ExecuteTime": {
     "end_time": "2023-06-09T15:13:13.139937Z",
     "start_time": "2023-06-09T15:13:13.130339Z"
    },
    "scrolled": false
   },
   "outputs": [
    {
     "data": {
      "text/plain": [
       "PeftModelForCausalLM(\n",
       "  (base_model): LoraModel(\n",
       "    (model): LlamaForCausalLM(\n",
       "      (model): LlamaModel(\n",
       "        (embed_tokens): Embedding(32000, 4096, padding_idx=31999)\n",
       "        (layers): ModuleList(\n",
       "          (0-31): 32 x LlamaDecoderLayer(\n",
       "            (self_attn): LlamaAttention(\n",
       "              (q_proj): Linear8bitLt(\n",
       "                in_features=4096, out_features=4096, bias=False\n",
       "                (lora_dropout): ModuleDict(\n",
       "                  (default): Dropout(p=0.05, inplace=False)\n",
       "                )\n",
       "                (lora_A): ModuleDict(\n",
       "                  (default): Linear(in_features=4096, out_features=16, bias=False)\n",
       "                )\n",
       "                (lora_B): ModuleDict(\n",
       "                  (default): Linear(in_features=16, out_features=4096, bias=False)\n",
       "                )\n",
       "                (lora_embedding_A): ParameterDict()\n",
       "                (lora_embedding_B): ParameterDict()\n",
       "              )\n",
       "              (k_proj): Linear8bitLt(\n",
       "                in_features=4096, out_features=4096, bias=False\n",
       "                (lora_dropout): ModuleDict(\n",
       "                  (default): Dropout(p=0.05, inplace=False)\n",
       "                )\n",
       "                (lora_A): ModuleDict(\n",
       "                  (default): Linear(in_features=4096, out_features=16, bias=False)\n",
       "                )\n",
       "                (lora_B): ModuleDict(\n",
       "                  (default): Linear(in_features=16, out_features=4096, bias=False)\n",
       "                )\n",
       "                (lora_embedding_A): ParameterDict()\n",
       "                (lora_embedding_B): ParameterDict()\n",
       "              )\n",
       "              (v_proj): Linear8bitLt(\n",
       "                in_features=4096, out_features=4096, bias=False\n",
       "                (lora_dropout): ModuleDict(\n",
       "                  (default): Dropout(p=0.05, inplace=False)\n",
       "                )\n",
       "                (lora_A): ModuleDict(\n",
       "                  (default): Linear(in_features=4096, out_features=16, bias=False)\n",
       "                )\n",
       "                (lora_B): ModuleDict(\n",
       "                  (default): Linear(in_features=16, out_features=4096, bias=False)\n",
       "                )\n",
       "                (lora_embedding_A): ParameterDict()\n",
       "                (lora_embedding_B): ParameterDict()\n",
       "              )\n",
       "              (o_proj): Linear8bitLt(\n",
       "                in_features=4096, out_features=4096, bias=False\n",
       "                (lora_dropout): ModuleDict(\n",
       "                  (default): Dropout(p=0.05, inplace=False)\n",
       "                )\n",
       "                (lora_A): ModuleDict(\n",
       "                  (default): Linear(in_features=4096, out_features=16, bias=False)\n",
       "                )\n",
       "                (lora_B): ModuleDict(\n",
       "                  (default): Linear(in_features=16, out_features=4096, bias=False)\n",
       "                )\n",
       "                (lora_embedding_A): ParameterDict()\n",
       "                (lora_embedding_B): ParameterDict()\n",
       "              )\n",
       "              (rotary_emb): LlamaRotaryEmbedding()\n",
       "            )\n",
       "            (mlp): LlamaMLP(\n",
       "              (gate_proj): Linear8bitLt(in_features=4096, out_features=11008, bias=False)\n",
       "              (down_proj): Linear8bitLt(in_features=11008, out_features=4096, bias=False)\n",
       "              (up_proj): Linear8bitLt(in_features=4096, out_features=11008, bias=False)\n",
       "              (act_fn): SiLUActivation()\n",
       "            )\n",
       "            (input_layernorm): LlamaRMSNorm()\n",
       "            (post_attention_layernorm): LlamaRMSNorm()\n",
       "          )\n",
       "        )\n",
       "        (norm): LlamaRMSNorm()\n",
       "      )\n",
       "      (lm_head): Linear(in_features=4096, out_features=32000, bias=False)\n",
       "    )\n",
       "  )\n",
       ")"
      ]
     },
     "execution_count": 12,
     "metadata": {},
     "output_type": "execute_result"
    }
   ],
   "source": [
    "model"
   ]
  },
  {
   "cell_type": "code",
   "execution_count": 13,
   "id": "307b4e11",
   "metadata": {
    "ExecuteTime": {
     "end_time": "2023-06-09T15:13:52.070605Z",
     "start_time": "2023-06-09T15:13:52.055864Z"
    }
   },
   "outputs": [
    {
     "name": "stdout",
     "output_type": "stream",
     "text": [
      "model_type llama\n",
      "['q_proj', 'k_proj', 'v_proj', 'o_proj']\n"
     ]
    },
    {
     "data": {
      "text/plain": [
       "{'t5': ['q', 'v'],\n",
       " 'mt5': ['q', 'v'],\n",
       " 'bart': ['q_proj', 'v_proj'],\n",
       " 'gpt2': ['c_attn'],\n",
       " 'bloom': ['query_key_value'],\n",
       " 'blip-2': ['q', 'v', 'q_proj', 'v_proj'],\n",
       " 'opt': ['q_proj', 'v_proj'],\n",
       " 'gptj': ['q_proj', 'v_proj'],\n",
       " 'gpt_neox': ['query_key_value'],\n",
       " 'gpt_neo': ['q_proj', 'v_proj'],\n",
       " 'bert': ['query', 'value'],\n",
       " 'roberta': ['query', 'value'],\n",
       " 'xlm-roberta': ['query', 'value'],\n",
       " 'electra': ['query', 'value'],\n",
       " 'deberta-v2': ['query_proj', 'value_proj'],\n",
       " 'deberta': ['in_proj'],\n",
       " 'layoutlm': ['query', 'value'],\n",
       " 'llama': ['q_proj', 'v_proj'],\n",
       " 'chatglm': ['query_key_value']}"
      ]
     },
     "execution_count": 13,
     "metadata": {},
     "output_type": "execute_result"
    }
   ],
   "source": [
    "from peft import mapping\n",
    "from peft.utils import other\n",
    "\n",
    "print('model_type', model.config.model_type)\n",
    "print(model.peft_config['default'].target_modules)\n",
    "\n",
    "#默认的 target module\n",
    "other.TRANSFORMERS_MODELS_TO_LORA_TARGET_MODULES_MAPPING"
   ]
  },
  {
   "cell_type": "markdown",
   "id": "c7b7916e",
   "metadata": {},
   "source": [
    "## alpaca examples"
   ]
  },
  {
   "cell_type": "markdown",
   "id": "26c217a7",
   "metadata": {},
   "source": [
    "- https://github.com/tatsu-lab/stanford_alpaca"
   ]
  },
  {
   "cell_type": "code",
   "execution_count": 18,
   "id": "e23b14a8",
   "metadata": {
    "ExecuteTime": {
     "end_time": "2023-06-09T15:18:14.592578Z",
     "start_time": "2023-06-09T15:18:14.586008Z"
    }
   },
   "outputs": [],
   "source": [
    "def generate_prompt(instruction, input=None):\n",
    "    if input:\n",
    "        return f\"\"\"Below is an instruction that describes a task, paired with an input that provides further context. Write a response that appropriately completes the request.\n",
    "\n",
    "### Instruction:\n",
    "{instruction}\n",
    "\n",
    "### Input:\n",
    "{input}\n",
    "\n",
    "### Response:\"\"\"\n",
    "    else:\n",
    "        return f\"\"\"Below is an instruction that describes a task. Write a response that appropriately completes the request.\n",
    "\n",
    "### Instruction:\n",
    "{instruction}\n",
    "\n",
    "### Response:\"\"\""
   ]
  },
  {
   "cell_type": "code",
   "execution_count": 19,
   "id": "836ff05e",
   "metadata": {
    "ExecuteTime": {
     "end_time": "2023-06-09T15:18:15.408107Z",
     "start_time": "2023-06-09T15:18:15.396281Z"
    }
   },
   "outputs": [],
   "source": [
    "generation_config = GenerationConfig(\n",
    "    temperature=1.5,\n",
    "    # nucleus sampling\n",
    "    top_p=0.8,\n",
    "    num_beams=4,\n",
    ")\n",
    "\n",
    "def inference(instruction, input=None):\n",
    "    prompt = generate_prompt(instruction, input)\n",
    "#     print(prompt)\n",
    "    inputs = tokenizer(prompt, return_tensors=\"pt\")\n",
    "    input_ids = inputs[\"input_ids\"].cuda()\n",
    "    generation_output = model.generate(\n",
    "        input_ids=input_ids,\n",
    "        generation_config=generation_config,\n",
    "        return_dict_in_generate=True,\n",
    "        output_scores=True,\n",
    "        max_new_tokens=256\n",
    "    )\n",
    "    for s in generation_output.sequences:\n",
    "        output = tokenizer.decode(s)\n",
    "        print(\"Response:\", output.split(\"### Response:\")[1].strip())"
   ]
  },
  {
   "cell_type": "code",
   "execution_count": 20,
   "id": "374a2e1d",
   "metadata": {
    "ExecuteTime": {
     "end_time": "2023-06-09T15:18:48.136010Z",
     "start_time": "2023-06-09T15:18:17.029296Z"
    }
   },
   "outputs": [
    {
     "name": "stdout",
     "output_type": "stream",
     "text": [
      "Instruction: tell me some jokes.\n",
      "Below is an instruction that describes a task. Write a response that appropriately completes the request.\n",
      "\n",
      "### Instruction:\n",
      "tell me some jokes.\n",
      "\n",
      "### Response:\n",
      "Response: Q: Why don't scientists trust atoms?\n",
      "A: Because they make up everything!\n",
      "\n",
      "Q: What do you call a bear with no teeth?\n",
      "A: A gummy bear!\n",
      "\n",
      "Q: What did the fish say when it swam into a wall?\n",
      "A: Dam!\n"
     ]
    }
   ],
   "source": [
    "inference(input(\"Instruction: \"))"
   ]
  }
 ],
 "metadata": {
  "kernelspec": {
   "display_name": "Python 3 (ipykernel)",
   "language": "python",
   "name": "python3"
  },
  "language_info": {
   "codemirror_mode": {
    "name": "ipython",
    "version": 3
   },
   "file_extension": ".py",
   "mimetype": "text/x-python",
   "name": "python",
   "nbconvert_exporter": "python",
   "pygments_lexer": "ipython3",
   "version": "3.10.12"
  },
  "toc": {
   "base_numbering": 1,
   "nav_menu": {},
   "number_sections": true,
   "sideBar": true,
   "skip_h1_title": false,
   "title_cell": "Table of Contents",
   "title_sidebar": "Contents",
   "toc_cell": false,
   "toc_position": {
    "height": "calc(100% - 180px)",
    "left": "10px",
    "top": "150px",
    "width": "216px"
   },
   "toc_section_display": true,
   "toc_window_display": true
  }
 },
 "nbformat": 4,
 "nbformat_minor": 5
}
